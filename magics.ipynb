{
 "cells": [
  {
   "attachments": {},
   "cell_type": "markdown",
   "metadata": {},
   "source": [
    "# IPython Magics for BigQuery\n",
    "\n",
    " _To use these magics, you must first register them. Run the code cell below:_"
   ]
  },
  {
   "cell_type": "code",
   "execution_count": null,
   "metadata": {},
   "outputs": [],
   "source": [
    "%load_ext google.cloud.bigquery"
   ]
  },
  {
   "attachments": {},
   "cell_type": "markdown",
   "metadata": {},
   "source": [
    "_If, for whatever reason, you need to reload the registration. Run the code cell below:_"
   ]
  },
  {
   "cell_type": "code",
   "execution_count": null,
   "metadata": {},
   "outputs": [],
   "source": [
    "%reload_ext google.cloud.bigquery"
   ]
  },
  {
   "attachments": {},
   "cell_type": "markdown",
   "metadata": {},
   "source": [
    "_To unload:_"
   ]
  },
  {
   "cell_type": "code",
   "execution_count": null,
   "metadata": {},
   "outputs": [],
   "source": [
    "%unload_ext google.cloud.bigquery"
   ]
  },
  {
   "attachments": {},
   "cell_type": "markdown",
   "metadata": {},
   "source": [
    "_Running a query from Big Query public data:_"
   ]
  },
  {
   "cell_type": "code",
   "execution_count": null,
   "metadata": {},
   "outputs": [],
   "source": [
    "%%bigquery\n",
    "SELECT name, SUM(number) as count\n",
    "FROM `bigquery-public-data.usa_names.usa_1910_current`\n",
    "GROUP BY name\n",
    "ORDER BY count DESC\n",
    "LIMIT 3"
   ]
  },
  {
   "attachments": {},
   "cell_type": "markdown",
   "metadata": {},
   "source": [
    "_Running a parameterized query:_"
   ]
  },
  {
   "cell_type": "code",
   "execution_count": null,
   "metadata": {},
   "outputs": [],
   "source": [
    "%%bigquery --params {\"corpus_name\": \"hamlet\", \"limit\": 10}\n",
    "SELECT word, SUM(word_count) as count\n",
    "FROM `bigquery-public-data.samples.shakespeare`\n",
    "WHERE corpus = @corpus_name\n",
    "GROUP BY word\n",
    "ORDER BY count DESC\n",
    "LIMIT @limit"
   ]
  },
  {
   "attachments": {},
   "cell_type": "markdown",
   "metadata": {},
   "source": [
    "## API Reference\n",
    "\n",
    "IPython Magics\n",
    "\n",
    "### %%bigquery\n",
    "IPython cell magic to run a query and display the result as a DataFrame\n",
    "```\n",
    "%%bigquery [<destination_var>] [--project <project>] [--use_legacy_sql]\n",
    "           [--verbose] [--params <params>]\n",
    "<query>\n",
    "```\n",
    "Parameters:\n",
    "- `<destination_var>`(Optional[line argument]):\n",
    "<br>\n",
    "variable to store the query results. The results are not displayed if this parameter is used. If an error occurs during the query execution, the corresponding QueryJob instance (if available) is stored in the variable instead.\n",
    "\n",
    "- `--destination_table` (Optional[line argument]):\n",
    "<br>\n",
    "A dataset and table to store the query results. If table does not exists, it will be created. If table already exists, its data will be overwritten. Variable should be in a format <dataset_id>.<table_id>.\n",
    "\n",
    "- `--no_query_cache`(Optional[line argument]):\n",
    "<br>\n",
    "Do not use cached query results.\n",
    "\n",
    "- `--project <project>`(Optional[line argument]):\n",
    "<br>\n",
    "Project to use for running the query. Defaults to the context project.\n",
    "\n",
    "- `--use_bqstorage_api`(Optional[line argument]):\n",
    "<br>\n",
    "[Deprecated] Not used anymore, as BigQuery Storage API is used by default.\n",
    "\n",
    "- `--use_rest_api`(Optional[line argument]):\n",
    "<br>\n",
    "Use the BigQuery REST API instead of the Storage API.\n",
    "\n",
    "- `--use_legacy_sql`(Optional[line argument]):\n",
    "<br>\n",
    "Runs the query using Legacy SQL syntax. Defaults to Standard SQL if this argument not used.\n",
    "\n",
    "- `--verbose`(Optional[line argument]):\n",
    "<br>\n",
    "If this flag is used, information including the query job ID and the amount of time for the query to complete will not be cleared after the query is finished. By default, this information will be displayed but will be cleared after the query is finished.\n",
    "\n",
    "- `--params <params>`(Optional[line argument]):\n",
    "<br>\n",
    "If present, the argument following the --params flag must be either:\n",
    "\n",
    "str - A JSON string representation of a dictionary in the format {\"param_name\": \"param_value\"} (ex. {\"num\": 17}). Use of the parameter in the query should be indicated with @param_name. See In[5] in the Examples section below.\n",
    "\n",
    "dict reference - A reference to a dict in the format {\"param_name\": \"param_value\"}, where the value types must be JSON serializable. The variable reference is indicated by a $ before the variable name (ex. $my_dict_var). See In[6] and In[7] in the Examples section below.\n",
    "\n",
    "- `<query>`(required, cell argument):\n",
    "SQL query to run. If the query does not contain any whitespace (aside from leading and trailing whitespace), it is assumed to represent a fully-qualified table ID, and the latter’s data will be fetched.\n",
    "\n",
    "Returns:\n",
    "A pandas.DataFrame with the query results."
   ]
  },
  {
   "attachments": {},
   "cell_type": "markdown",
   "metadata": {},
   "source": [
    "_The google.cloud.bigquery library also includes a magic command which runs a query and either displays the result or saves it to a variable as a DataFrame._"
   ]
  },
  {
   "cell_type": "code",
   "execution_count": null,
   "metadata": {},
   "outputs": [],
   "source": [
    "%%bigquery --<project><yourprojectid>\n",
    "# replace \"<project><yourprojectid>\"\" with your own\n",
    "SELECT \n",
    "  COUNT(*) as total_rows\n",
    "FROM `bigquery-public-data.samples.gsod`"
   ]
  },
  {
   "cell_type": "code",
   "execution_count": null,
   "metadata": {},
   "outputs": [],
   "source": [
    "# Save output in a variable `df`\n",
    "%%bigquery df --<project><yourprojectid>\n",
    "SELECT \n",
    "  COUNT(*) as total_rows\n",
    "FROM `bigquery-public-data.samples.gsod`"
   ]
  },
  {
   "attachments": {},
   "cell_type": "markdown",
   "metadata": {},
   "source": [
    "_Using magics to plot data._"
   ]
  },
  {
   "cell_type": "code",
   "execution_count": null,
   "metadata": {},
   "outputs": [],
   "source": [
    "%%bigquery total_births\n",
    "SELECT\n",
    "    source_year AS year,\n",
    "    COUNT(is_male) AS birth_count\n",
    "FROM `bigquery-public-data.samples.natality`\n",
    "GROUP BY year\n",
    "ORDER BY year DESC\n",
    "LIMIT 15"
   ]
  },
  {
   "attachments": {},
   "cell_type": "markdown",
   "metadata": {},
   "source": [
    "_Execute following command to call Matplotlib_"
   ]
  },
  {
   "cell_type": "code",
   "execution_count": null,
   "metadata": {},
   "outputs": [],
   "source": [
    "%matplotlib inline"
   ]
  },
  {
   "attachments": {},
   "cell_type": "markdown",
   "metadata": {},
   "source": [
    "_Plot \"total_births\" data in Bar Chart using Pandas DataFrame.plot() method_"
   ]
  },
  {
   "cell_type": "code",
   "execution_count": null,
   "metadata": {},
   "outputs": [],
   "source": [
    "total_births.plot(kind=\"bar\", x=\"year\", y=\"birth_count\")"
   ]
  },
  {
   "attachments": {},
   "cell_type": "markdown",
   "metadata": {},
   "source": [
    "_You can further analyze the sample data to retrieve the number of births by weekdays using magics_"
   ]
  },
  {
   "cell_type": "code",
   "execution_count": null,
   "metadata": {},
   "outputs": [],
   "source": [
    "%%bigquery births_by_weekday\n",
    "SELECT\n",
    "    wday,\n",
    "    SUM(CASE WHEN is_male THEN 1 ELSE 0 END) AS male_births,\n",
    "    SUM(CASE WHEN is_male THEN 0 ELSE 1 END) AS female_births\n",
    "FROM `bigquery-public-data.samples.natality`\n",
    "WHERE wday IS NOT NULL\n",
    "GROUP BY wday\n",
    "ORDER BY wday ASC"
   ]
  },
  {
   "cell_type": "code",
   "execution_count": null,
   "metadata": {},
   "outputs": [],
   "source": [
    "births_by_weekday.plot(x=\"wday\")"
   ]
  }
 ],
 "metadata": {
  "kernelspec": {
   "display_name": "venv",
   "language": "python",
   "name": "python3"
  },
  "language_info": {
   "codemirror_mode": {
    "name": "ipython",
    "version": 3
   },
   "file_extension": ".py",
   "mimetype": "text/x-python",
   "name": "python",
   "nbconvert_exporter": "python",
   "pygments_lexer": "ipython3",
   "version": "3.7.15"
  },
  "orig_nbformat": 4,
  "vscode": {
   "interpreter": {
    "hash": "d240b0a1999016c38650251fd7775b6b2d3dfada3548394cb4357f77ef265768"
   }
  }
 },
 "nbformat": 4,
 "nbformat_minor": 2
}
